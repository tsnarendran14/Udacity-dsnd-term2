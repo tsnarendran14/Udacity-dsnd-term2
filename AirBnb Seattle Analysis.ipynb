{
 "cells": [
  {
   "cell_type": "markdown",
   "metadata": {},
   "source": [
    "# 1. Introduction"
   ]
  },
  {
   "cell_type": "markdown",
   "metadata": {},
   "source": [
    "<b>Purpose of the project:</b><br/><br/>\n",
    "    I will analyze AirBnb Seattle Data, to get insights into their performance, using CRISP-DM process to analyze the data.\n",
    "     \n",
    "To analyze the perofrmance, following questions are asked:\n",
    "    \n",
    "    1) What are the factors on which price is dependent upon ?\n",
    "    2) What are top 10 neibhbourhoods with highest revenue?\n",
    "    3) What are the top 10 neighbourhoods with least revenue?\n",
    "    4) How is the response Rate by the host for each of the performers (Top, Medium and Low Performers)?\n",
    "    5) How is the sentiment of the customers who have taken AirBnB during given Period ?\n",
    "\n",
    "CRISP-DM (Cross-Industry Standard Process for Data Mining) consists of:\n",
    "\n",
    "    1) Business Understanding\n",
    "\n",
    "    2) Data Understanding\n",
    "\n",
    "    3) Data Preparation/ Wrangling\n",
    "\n",
    "    4) Data Modeling\n",
    "\n",
    "    5) Data Evaluation\n",
    "\n",
    "    6) Deployment\n",
    "\n",
    "\n",
    "The data can be found has been taken from the following link,\n",
    "http://insideairbnb.com/get-the-data.html\n",
    "\n",
    "Listings: Summarized listings information for Seattle.\n",
    "Reviews: Contains detailed reviews by the customers of AirBnB"
   ]
  },
  {
   "cell_type": "markdown",
   "metadata": {},
   "source": [
    "# 2. Importing Libraries"
   ]
  },
  {
   "cell_type": "code",
   "execution_count": 1,
   "metadata": {},
   "outputs": [],
   "source": [
    "import pandas as pd\n",
    "import numpy as np\n",
    "import matplotlib.pyplot as plt\n",
    "import seaborn as sns\n",
    "from afinn import Afinn\n",
    "%matplotlib inline"
   ]
  },
  {
   "cell_type": "markdown",
   "metadata": {},
   "source": [
    "# 3. Function declaration"
   ]
  },
  {
   "cell_type": "code",
   "execution_count": 2,
   "metadata": {},
   "outputs": [],
   "source": [
    "def read_file(file_name):\n",
    "    '''\n",
    "    Function to read csv files from a given location\n",
    "    '''\n",
    "    return pd.read_csv(file_name)\n",
    "\n",
    "def get_shape(list_df):\n",
    "    '''\n",
    "    Function which returns the number of rows and columns\n",
    "    '''\n",
    "    list_shape = []\n",
    "    for i in list_df:\n",
    "        list_shape.append([i.shape])\n",
    "    return list_shape\n",
    "\n",
    "# Remove Dollar symbole to conver to integer\n",
    "def dollar_cleaning(x):\n",
    "    '''\n",
    "    Cleans columns which contain dollar values\n",
    "    '''\n",
    "    x=x.str.replace('$','')\n",
    "    x=x.str.replace(',','').astype('float')   \n",
    "    return (x)\n",
    "\n",
    "def plot_heatmap(corr_df):\n",
    "    '''\n",
    "    Plot heatmap for correlation dataframe\n",
    "    '''\n",
    "    mask = np.zeros_like(corr_df, dtype=np.bool)\n",
    "    mask[np.triu_indices_from(mask)] = True\n",
    "\n",
    "    f, ax = plt.subplots(figsize=(11, 9))\n",
    "\n",
    "    cmap = sns.diverging_palette(220, 10, as_cmap=True)\n",
    "\n",
    "    sns.heatmap(corr_df, mask=mask, cmap=cmap, vmax=.3, center=0,\n",
    "                square=True, linewidths=.5, cbar_kws={\"shrink\": .5})\n",
    "\n",
    "def response_time_mapping(df, col):\n",
    "    '''\n",
    "    Function which maps the response time from string to integer\n",
    "    '''\n",
    "    return np.where(df[col] == 'within an hour', 1,\n",
    "                        np.where(df[col]== 'within a few hours', 2,\n",
    "                                np.where(df[col] == 'within a day', 24,\n",
    "                                        np.where(df[col]== 'a few days or more', 48, -99))))\n",
    "def percentage_cleaning(df, col):\n",
    "    '''\n",
    "    Cleans columns which contain percentage symbols\n",
    "    '''  \n",
    "    return df[col].str.replace(\"%\", '').astype('float')\n",
    "\n",
    "\n",
    "def remove_unnecessary_cols(df):\n",
    "    '''\n",
    "    This function is used for removing unnecessary columns such as urls and columns which has single value\n",
    "    '''\n",
    "    unique_value_columns=[]\n",
    "    url_columns=[]\n",
    "\n",
    "    for i in df.columns:\n",
    "\n",
    "        if len((df[i]).unique())==1:\n",
    "            print ('a un-used column because same value:', i, (df[i]).unique())\n",
    "            unique_value_columns=unique_value_columns+[i]\n",
    "        if 'url' in i:\n",
    "            url_columns=url_columns+[i]\n",
    "    return url_columns, unique_value_columns\n",
    "\n",
    "def impute_numerical_values(df):\n",
    "    '''\n",
    "    Function returns imputed dataframe containing numerical values. Numerical Values are imputed with mean\n",
    "    '''\n",
    "    df_dtypes = pd.DataFrame({\"cols\" : df.columns, \"object_flag\" : df.dtypes})\n",
    "    df_impute = df[list(df_dtypes[df_dtypes[\"object_flag\"] != \"object\"].cols)].copy()\n",
    "    df_impute =  df_impute.fillna(df_impute.mean())\n",
    "    return df_impute"
   ]
  },
  {
   "cell_type": "markdown",
   "metadata": {},
   "source": [
    "# 4. Reading the Data"
   ]
  },
  {
   "cell_type": "code",
   "execution_count": 3,
   "metadata": {},
   "outputs": [
    {
     "name": "stderr",
     "output_type": "stream",
     "text": [
      "C:\\ProgramData\\Anaconda3\\lib\\site-packages\\IPython\\core\\interactiveshell.py:3214: DtypeWarning: Columns (43,61,62) have mixed types. Specify dtype option on import or set low_memory=False.\n",
      "  if (yield from self.run_code(code, result)):\n"
     ]
    }
   ],
   "source": [
    "listings_df = read_file(\"listings.csv\")\n",
    "reviews_df = read_file(\"reviews.csv\")"
   ]
  },
  {
   "cell_type": "markdown",
   "metadata": {},
   "source": [
    "# 5. Data Exploration"
   ]
  },
  {
   "cell_type": "markdown",
   "metadata": {},
   "source": [
    "### 5.1 Number of rows and columns across the dataset"
   ]
  },
  {
   "cell_type": "code",
   "execution_count": 4,
   "metadata": {},
   "outputs": [
    {
     "name": "stdout",
     "output_type": "stream",
     "text": [
      "Rows and columns in Listings DataFrame->  [(9023, 106)]\n",
      "Rows and columns in Reviews DataFrame ->  [(454256, 6)]\n"
     ]
    }
   ],
   "source": [
    "list_shape = get_shape([listings_df, reviews_df])\n",
    "print(\"Rows and columns in Listings DataFrame-> \", list_shape[0])\n",
    "print(\"Rows and columns in Reviews DataFrame -> \", list_shape[1])"
   ]
  },
  {
   "cell_type": "code",
   "execution_count": 5,
   "metadata": {},
   "outputs": [
    {
     "data": {
      "text/html": [
       "<div>\n",
       "<style scoped>\n",
       "    .dataframe tbody tr th:only-of-type {\n",
       "        vertical-align: middle;\n",
       "    }\n",
       "\n",
       "    .dataframe tbody tr th {\n",
       "        vertical-align: top;\n",
       "    }\n",
       "\n",
       "    .dataframe thead th {\n",
       "        text-align: right;\n",
       "    }\n",
       "</style>\n",
       "<table border=\"1\" class=\"dataframe\">\n",
       "  <thead>\n",
       "    <tr style=\"text-align: right;\">\n",
       "      <th></th>\n",
       "      <th>id</th>\n",
       "      <th>listing_url</th>\n",
       "      <th>scrape_id</th>\n",
       "      <th>last_scraped</th>\n",
       "      <th>name</th>\n",
       "      <th>summary</th>\n",
       "      <th>space</th>\n",
       "      <th>description</th>\n",
       "      <th>experiences_offered</th>\n",
       "      <th>neighborhood_overview</th>\n",
       "      <th>...</th>\n",
       "      <th>instant_bookable</th>\n",
       "      <th>is_business_travel_ready</th>\n",
       "      <th>cancellation_policy</th>\n",
       "      <th>require_guest_profile_picture</th>\n",
       "      <th>require_guest_phone_verification</th>\n",
       "      <th>calculated_host_listings_count</th>\n",
       "      <th>calculated_host_listings_count_entire_homes</th>\n",
       "      <th>calculated_host_listings_count_private_rooms</th>\n",
       "      <th>calculated_host_listings_count_shared_rooms</th>\n",
       "      <th>reviews_per_month</th>\n",
       "    </tr>\n",
       "  </thead>\n",
       "  <tbody>\n",
       "    <tr>\n",
       "      <th>0</th>\n",
       "      <td>2318</td>\n",
       "      <td>https://www.airbnb.com/rooms/2318</td>\n",
       "      <td>20191121092259</td>\n",
       "      <td>2019-11-21</td>\n",
       "      <td>Casa Madrona - Urban Oasis 1 block from the park!</td>\n",
       "      <td>Gorgeous, architect remodeled, (Phone number h...</td>\n",
       "      <td>This beautiful, gracious home has been complet...</td>\n",
       "      <td>Gorgeous, architect remodeled, (Phone number h...</td>\n",
       "      <td>none</td>\n",
       "      <td>Madrona is a hidden gem of a neighborhood. It ...</td>\n",
       "      <td>...</td>\n",
       "      <td>t</td>\n",
       "      <td>f</td>\n",
       "      <td>strict_14_with_grace_period</td>\n",
       "      <td>f</td>\n",
       "      <td>f</td>\n",
       "      <td>2</td>\n",
       "      <td>2</td>\n",
       "      <td>0</td>\n",
       "      <td>0</td>\n",
       "      <td>0.21</td>\n",
       "    </tr>\n",
       "    <tr>\n",
       "      <th>1</th>\n",
       "      <td>5682</td>\n",
       "      <td>https://www.airbnb.com/rooms/5682</td>\n",
       "      <td>20191121092259</td>\n",
       "      <td>2019-11-21</td>\n",
       "      <td>Cozy Studio, min. to downtown -WiFi</td>\n",
       "      <td>The Cozy Studio is a perfect launchpad for you...</td>\n",
       "      <td>Hello fellow travelers, Save some money and ha...</td>\n",
       "      <td>The Cozy Studio is a perfect launchpad for you...</td>\n",
       "      <td>none</td>\n",
       "      <td>NaN</td>\n",
       "      <td>...</td>\n",
       "      <td>f</td>\n",
       "      <td>f</td>\n",
       "      <td>strict_14_with_grace_period</td>\n",
       "      <td>f</td>\n",
       "      <td>t</td>\n",
       "      <td>1</td>\n",
       "      <td>1</td>\n",
       "      <td>0</td>\n",
       "      <td>0</td>\n",
       "      <td>3.92</td>\n",
       "    </tr>\n",
       "    <tr>\n",
       "      <th>2</th>\n",
       "      <td>6606</td>\n",
       "      <td>https://www.airbnb.com/rooms/6606</td>\n",
       "      <td>20191121092259</td>\n",
       "      <td>2019-11-21</td>\n",
       "      <td>Fab, private seattle urban cottage!</td>\n",
       "      <td>This tiny cottage is only 15x10, but it has ev...</td>\n",
       "      <td>Soo centrally located, this is a little house ...</td>\n",
       "      <td>This tiny cottage is only 15x10, but it has ev...</td>\n",
       "      <td>none</td>\n",
       "      <td>A peaceful yet highly accessible neighborhood,...</td>\n",
       "      <td>...</td>\n",
       "      <td>f</td>\n",
       "      <td>f</td>\n",
       "      <td>strict_14_with_grace_period</td>\n",
       "      <td>f</td>\n",
       "      <td>f</td>\n",
       "      <td>3</td>\n",
       "      <td>3</td>\n",
       "      <td>0</td>\n",
       "      <td>0</td>\n",
       "      <td>1.19</td>\n",
       "    </tr>\n",
       "    <tr>\n",
       "      <th>3</th>\n",
       "      <td>9419</td>\n",
       "      <td>https://www.airbnb.com/rooms/9419</td>\n",
       "      <td>20191121092259</td>\n",
       "      <td>2019-11-21</td>\n",
       "      <td>Glorious sun room w/ memory foambed</td>\n",
       "      <td>This beautiful double room features a magical ...</td>\n",
       "      <td>Our new Sunny space has a private room from th...</td>\n",
       "      <td>This beautiful double room features a magical ...</td>\n",
       "      <td>none</td>\n",
       "      <td>Lots of restaurants (see our guide book) bars,...</td>\n",
       "      <td>...</td>\n",
       "      <td>f</td>\n",
       "      <td>f</td>\n",
       "      <td>moderate</td>\n",
       "      <td>t</td>\n",
       "      <td>t</td>\n",
       "      <td>8</td>\n",
       "      <td>0</td>\n",
       "      <td>8</td>\n",
       "      <td>0</td>\n",
       "      <td>1.29</td>\n",
       "    </tr>\n",
       "    <tr>\n",
       "      <th>4</th>\n",
       "      <td>9460</td>\n",
       "      <td>https://www.airbnb.com/rooms/9460</td>\n",
       "      <td>20191121092259</td>\n",
       "      <td>2019-11-21</td>\n",
       "      <td>Downtown Convention Center B&amp;B -- Free Minibar</td>\n",
       "      <td>Take up a glass of wine and unwind on one of t...</td>\n",
       "      <td>Greetings from Seattle. Thanks for considering...</td>\n",
       "      <td>Take up a glass of wine and unwind on one of t...</td>\n",
       "      <td>none</td>\n",
       "      <td>The apartment is situated where Downtown meets...</td>\n",
       "      <td>...</td>\n",
       "      <td>t</td>\n",
       "      <td>f</td>\n",
       "      <td>moderate</td>\n",
       "      <td>f</td>\n",
       "      <td>f</td>\n",
       "      <td>4</td>\n",
       "      <td>3</td>\n",
       "      <td>1</td>\n",
       "      <td>0</td>\n",
       "      <td>3.65</td>\n",
       "    </tr>\n",
       "  </tbody>\n",
       "</table>\n",
       "<p>5 rows × 106 columns</p>\n",
       "</div>"
      ],
      "text/plain": [
       "     id                        listing_url       scrape_id last_scraped  \\\n",
       "0  2318  https://www.airbnb.com/rooms/2318  20191121092259   2019-11-21   \n",
       "1  5682  https://www.airbnb.com/rooms/5682  20191121092259   2019-11-21   \n",
       "2  6606  https://www.airbnb.com/rooms/6606  20191121092259   2019-11-21   \n",
       "3  9419  https://www.airbnb.com/rooms/9419  20191121092259   2019-11-21   \n",
       "4  9460  https://www.airbnb.com/rooms/9460  20191121092259   2019-11-21   \n",
       "\n",
       "                                                name  \\\n",
       "0  Casa Madrona - Urban Oasis 1 block from the park!   \n",
       "1                Cozy Studio, min. to downtown -WiFi   \n",
       "2                Fab, private seattle urban cottage!   \n",
       "3                Glorious sun room w/ memory foambed   \n",
       "4     Downtown Convention Center B&B -- Free Minibar   \n",
       "\n",
       "                                             summary  \\\n",
       "0  Gorgeous, architect remodeled, (Phone number h...   \n",
       "1  The Cozy Studio is a perfect launchpad for you...   \n",
       "2  This tiny cottage is only 15x10, but it has ev...   \n",
       "3  This beautiful double room features a magical ...   \n",
       "4  Take up a glass of wine and unwind on one of t...   \n",
       "\n",
       "                                               space  \\\n",
       "0  This beautiful, gracious home has been complet...   \n",
       "1  Hello fellow travelers, Save some money and ha...   \n",
       "2  Soo centrally located, this is a little house ...   \n",
       "3  Our new Sunny space has a private room from th...   \n",
       "4  Greetings from Seattle. Thanks for considering...   \n",
       "\n",
       "                                         description experiences_offered  \\\n",
       "0  Gorgeous, architect remodeled, (Phone number h...                none   \n",
       "1  The Cozy Studio is a perfect launchpad for you...                none   \n",
       "2  This tiny cottage is only 15x10, but it has ev...                none   \n",
       "3  This beautiful double room features a magical ...                none   \n",
       "4  Take up a glass of wine and unwind on one of t...                none   \n",
       "\n",
       "                               neighborhood_overview  ... instant_bookable  \\\n",
       "0  Madrona is a hidden gem of a neighborhood. It ...  ...                t   \n",
       "1                                                NaN  ...                f   \n",
       "2  A peaceful yet highly accessible neighborhood,...  ...                f   \n",
       "3  Lots of restaurants (see our guide book) bars,...  ...                f   \n",
       "4  The apartment is situated where Downtown meets...  ...                t   \n",
       "\n",
       "  is_business_travel_ready          cancellation_policy  \\\n",
       "0                        f  strict_14_with_grace_period   \n",
       "1                        f  strict_14_with_grace_period   \n",
       "2                        f  strict_14_with_grace_period   \n",
       "3                        f                     moderate   \n",
       "4                        f                     moderate   \n",
       "\n",
       "  require_guest_profile_picture require_guest_phone_verification  \\\n",
       "0                             f                                f   \n",
       "1                             f                                t   \n",
       "2                             f                                f   \n",
       "3                             t                                t   \n",
       "4                             f                                f   \n",
       "\n",
       "   calculated_host_listings_count  \\\n",
       "0                               2   \n",
       "1                               1   \n",
       "2                               3   \n",
       "3                               8   \n",
       "4                               4   \n",
       "\n",
       "   calculated_host_listings_count_entire_homes  \\\n",
       "0                                            2   \n",
       "1                                            1   \n",
       "2                                            3   \n",
       "3                                            0   \n",
       "4                                            3   \n",
       "\n",
       "  calculated_host_listings_count_private_rooms  \\\n",
       "0                                            0   \n",
       "1                                            0   \n",
       "2                                            0   \n",
       "3                                            8   \n",
       "4                                            1   \n",
       "\n",
       "   calculated_host_listings_count_shared_rooms  reviews_per_month  \n",
       "0                                            0               0.21  \n",
       "1                                            0               3.92  \n",
       "2                                            0               1.19  \n",
       "3                                            0               1.29  \n",
       "4                                            0               3.65  \n",
       "\n",
       "[5 rows x 106 columns]"
      ]
     },
     "execution_count": 5,
     "metadata": {},
     "output_type": "execute_result"
    }
   ],
   "source": [
    "listings_df.head()"
   ]
  },
  {
   "cell_type": "code",
   "execution_count": 6,
   "metadata": {},
   "outputs": [
    {
     "data": {
      "text/html": [
       "<div>\n",
       "<style scoped>\n",
       "    .dataframe tbody tr th:only-of-type {\n",
       "        vertical-align: middle;\n",
       "    }\n",
       "\n",
       "    .dataframe tbody tr th {\n",
       "        vertical-align: top;\n",
       "    }\n",
       "\n",
       "    .dataframe thead th {\n",
       "        text-align: right;\n",
       "    }\n",
       "</style>\n",
       "<table border=\"1\" class=\"dataframe\">\n",
       "  <thead>\n",
       "    <tr style=\"text-align: right;\">\n",
       "      <th></th>\n",
       "      <th>listing_id</th>\n",
       "      <th>id</th>\n",
       "      <th>date</th>\n",
       "      <th>reviewer_id</th>\n",
       "      <th>reviewer_name</th>\n",
       "      <th>comments</th>\n",
       "    </tr>\n",
       "  </thead>\n",
       "  <tbody>\n",
       "    <tr>\n",
       "      <th>0</th>\n",
       "      <td>2318</td>\n",
       "      <td>146</td>\n",
       "      <td>2008-09-15</td>\n",
       "      <td>2451</td>\n",
       "      <td>Kevin</td>\n",
       "      <td>1000 times better than staying at a hotel.</td>\n",
       "    </tr>\n",
       "    <tr>\n",
       "      <th>1</th>\n",
       "      <td>2318</td>\n",
       "      <td>126302712</td>\n",
       "      <td>2017-01-10</td>\n",
       "      <td>12332845</td>\n",
       "      <td>Jessica</td>\n",
       "      <td>Our family (two couples, a two year old and an...</td>\n",
       "    </tr>\n",
       "    <tr>\n",
       "      <th>2</th>\n",
       "      <td>2318</td>\n",
       "      <td>140977084</td>\n",
       "      <td>2017-04-01</td>\n",
       "      <td>4789466</td>\n",
       "      <td>Ivan</td>\n",
       "      <td>Top of the list locations we have stayed at! T...</td>\n",
       "    </tr>\n",
       "    <tr>\n",
       "      <th>3</th>\n",
       "      <td>2318</td>\n",
       "      <td>147262504</td>\n",
       "      <td>2017-04-25</td>\n",
       "      <td>55817131</td>\n",
       "      <td>Mike</td>\n",
       "      <td>SUCH an awesome place. Very clean, quiet and s...</td>\n",
       "    </tr>\n",
       "    <tr>\n",
       "      <th>4</th>\n",
       "      <td>2318</td>\n",
       "      <td>161806368</td>\n",
       "      <td>2017-06-18</td>\n",
       "      <td>113604590</td>\n",
       "      <td>Pete</td>\n",
       "      <td>We flew quite a distance to be at our only dau...</td>\n",
       "    </tr>\n",
       "  </tbody>\n",
       "</table>\n",
       "</div>"
      ],
      "text/plain": [
       "   listing_id         id        date  reviewer_id reviewer_name  \\\n",
       "0        2318        146  2008-09-15         2451         Kevin   \n",
       "1        2318  126302712  2017-01-10     12332845       Jessica   \n",
       "2        2318  140977084  2017-04-01      4789466          Ivan   \n",
       "3        2318  147262504  2017-04-25     55817131          Mike   \n",
       "4        2318  161806368  2017-06-18    113604590          Pete   \n",
       "\n",
       "                                            comments  \n",
       "0        1000 times better than staying at a hotel.   \n",
       "1  Our family (two couples, a two year old and an...  \n",
       "2  Top of the list locations we have stayed at! T...  \n",
       "3  SUCH an awesome place. Very clean, quiet and s...  \n",
       "4  We flew quite a distance to be at our only dau...  "
      ]
     },
     "execution_count": 6,
     "metadata": {},
     "output_type": "execute_result"
    }
   ],
   "source": [
    "reviews_df.head()"
   ]
  },
  {
   "cell_type": "markdown",
   "metadata": {},
   "source": [
    "### 5.2 Data Cleaning"
   ]
  },
  {
   "cell_type": "markdown",
   "metadata": {},
   "source": [
    "The objective of the data cleaning step is to remove unnecessary columns and transform the features if required"
   ]
  },
  {
   "cell_type": "markdown",
   "metadata": {},
   "source": [
    "#### 5.2.1 Distribution of NA values"
   ]
  },
  {
   "cell_type": "code",
   "execution_count": 7,
   "metadata": {},
   "outputs": [
    {
     "data": {
      "text/plain": [
       "<matplotlib.axes._subplots.AxesSubplot at 0x1f757f74be0>"
      ]
     },
     "execution_count": 7,
     "metadata": {},
     "output_type": "execute_result"
    },
    {
     "data": {
      "image/png": "[encoded data removed]",
      "text/plain": [
       "<Figure size 432x288 with 1 Axes>"
      ]
     },
     "metadata": {
      "needs_background": "light"
     },
     "output_type": "display_data"
    }
   ],
   "source": [
    "sns.distplot(listings_df.isna().sum())"
   ]
  },
  {
   "cell_type": "markdown",
   "metadata": {},
   "source": [
    "From the above plot, based on the patterns in missing values, the cut off value can be chosen as 4000.That is, any column which has missing values greater than 4000 are eliminated."
   ]
  },
  {
   "cell_type": "code",
   "execution_count": 8,
   "metadata": {},
   "outputs": [],
   "source": [
    "missing_values_listings_df = pd.DataFrame({'columns' : listings_df.isnull().sum().index, \"missing_values\" : listings_df.isnull().sum()})\n",
    "missing_values_listings_df = missing_values_listings_df[missing_values_listings_df['missing_values'] < 4000]"
   ]
  },
  {
   "cell_type": "code",
   "execution_count": 9,
   "metadata": {},
   "outputs": [],
   "source": [
    "listings_df = listings_df[missing_values_listings_df[\"columns\"]]"
   ]
  },
  {
   "cell_type": "markdown",
   "metadata": {},
   "source": [
    "#### 5.2.2 Remove columns which are unnesary such as url and columns which have single value"
   ]
  },
  {
   "cell_type": "code",
   "execution_count": 10,
   "metadata": {},
   "outputs": [
    {
     "name": "stdout",
     "output_type": "stream",
     "text": [
      "a un-used column because same value: scrape_id [20191121092259]\n",
      "a un-used column because same value: last_scraped ['2019-11-21']\n",
      "a un-used column because same value: experiences_offered ['none']\n",
      "a un-used column because same value: country_code ['US']\n",
      "a un-used column because same value: country ['United States']\n",
      "a un-used column because same value: has_availability ['t']\n",
      "a un-used column because same value: calendar_last_scraped ['2019-11-21']\n",
      "a un-used column because same value: is_business_travel_ready ['f']\n"
     ]
    }
   ],
   "source": [
    " url_columns, unique_value_columns = remove_unnecessary_cols(listings_df)"
   ]
  },
  {
   "cell_type": "code",
   "execution_count": 11,
   "metadata": {},
   "outputs": [],
   "source": [
    "listings_df = listings_df.drop(url_columns+unique_value_columns, axis = 1)"
   ]
  },
  {
   "cell_type": "markdown",
   "metadata": {},
   "source": [
    "#### 5.2.3 Remove rows whose reviews per month is zero. Removing them because we won't be able to capture the clear picture of response"
   ]
  },
  {
   "cell_type": "code",
   "execution_count": 12,
   "metadata": {},
   "outputs": [
    {
     "data": {
      "text/plain": [
       "<matplotlib.axes._subplots.AxesSubplot at 0x1f7446d5da0>"
      ]
     },
     "execution_count": 12,
     "metadata": {},
     "output_type": "execute_result"
    },
    {
     "data": {
      "image/png": "[encoded data removed]",
      "text/plain": [
       "<Figure size 432x288 with 1 Axes>"
      ]
     },
     "metadata": {
      "needs_background": "light"
     },
     "output_type": "display_data"
    }
   ],
   "source": [
    "sns.distplot(listings_df[\"reviews_per_month\"].dropna())"
   ]
  },
  {
   "cell_type": "markdown",
   "metadata": {},
   "source": [
    "From, above plot, we can see that certain columns have zero review per month. So those, rows will be removed from analysis."
   ]
  },
  {
   "cell_type": "code",
   "execution_count": 13,
   "metadata": {},
   "outputs": [],
   "source": [
    "listings_df = listings_df[listings_df[\"reviews_per_month\"]>0]"
   ]
  },
  {
   "cell_type": "markdown",
   "metadata": {},
   "source": [
    "#### 5.2.4 Changing the format of price variable, since they are in different format and chechking their distribution. If pricr is zero, then those rows are removed from analysis"
   ]
  },
  {
   "cell_type": "code",
   "execution_count": 14,
   "metadata": {},
   "outputs": [],
   "source": [
    "listings_df[\"price\"] = dollar_cleaning(listings_df[\"price\"])"
   ]
  },
  {
   "cell_type": "code",
   "execution_count": 15,
   "metadata": {},
   "outputs": [
    {
     "data": {
      "text/plain": [
       "<matplotlib.axes._subplots.AxesSubplot at 0x1f744852208>"
      ]
     },
     "execution_count": 15,
     "metadata": {},
     "output_type": "execute_result"
    },
    {
     "data": {
      "image/png": "[encoded data removed]",
      "text/plain": [
       "<Figure size 432x288 with 1 Axes>"
      ]
     },
     "metadata": {
      "needs_background": "light"
     },
     "output_type": "display_data"
    }
   ],
   "source": [
    "sns.distplot(listings_df[\"price\"].dropna())"
   ]
  },
  {
   "cell_type": "markdown",
   "metadata": {},
   "source": [
    "Removing rows whose pricing is zero, as seen above. Might be wrong data or biased"
   ]
  },
  {
   "cell_type": "code",
   "execution_count": 16,
   "metadata": {},
   "outputs": [],
   "source": [
    "listings_df = listings_df[listings_df[\"price\"] > 0]"
   ]
  },
  {
   "cell_type": "markdown",
   "metadata": {},
   "source": [
    "#### 5.2.5 Mapping response time to numerical values"
   ]
  },
  {
   "cell_type": "code",
   "execution_count": 17,
   "metadata": {},
   "outputs": [],
   "source": [
    "listings_df['host_response_time_str'] = response_time_mapping(listings_df, 'host_response_time')"
   ]
  },
  {
   "cell_type": "markdown",
   "metadata": {},
   "source": [
    "#### 5.2.6 Cleaning data which has '%' values"
   ]
  },
  {
   "cell_type": "code",
   "execution_count": 18,
   "metadata": {},
   "outputs": [],
   "source": [
    "listings_df['host_response_rate'] = percentage_cleaning(listings_df, 'host_response_rate')"
   ]
  },
  {
   "cell_type": "markdown",
   "metadata": {},
   "source": [
    "#### 5.2.7 Impute numerical missing values with mean "
   ]
  },
  {
   "cell_type": "code",
   "execution_count": 19,
   "metadata": {},
   "outputs": [],
   "source": [
    "listing_df_impute = impute_numerical_values(listings_df)\n",
    "listings_df = listings_df.drop(listing_df_impute.columns, axis = 1)\n",
    "listings_df = pd.concat([listings_df, listing_df_impute], axis=1)"
   ]
  },
  {
   "cell_type": "markdown",
   "metadata": {},
   "source": [
    "# 6. Questions"
   ]
  },
  {
   "cell_type": "markdown",
   "metadata": {},
   "source": [
    "### 6.1 What are the factors on which price is dependent upon ?"
   ]
  },
  {
   "cell_type": "code",
   "execution_count": 20,
   "metadata": {},
   "outputs": [],
   "source": [
    "# listings_df.columns"
   ]
  },
  {
   "cell_type": "code",
   "execution_count": 21,
   "metadata": {},
   "outputs": [],
   "source": [
    "# Removing Id columns, latitude, longitude etc\n",
    "listings_relevant_df = listings_df.drop(['id', 'host_id', 'latitude', 'longitude'], axis = 1)"
   ]
  },
  {
   "cell_type": "code",
   "execution_count": 22,
   "metadata": {},
   "outputs": [],
   "source": [
    "listings_relevant_df_corr = listings_relevant_df.corr()"
   ]
  },
  {
   "cell_type": "code",
   "execution_count": 23,
   "metadata": {},
   "outputs": [
    {
     "data": {
      "image/png": "[encoded data removed]",
      "text/plain": [
       "<Figure size 792x648 with 2 Axes>"
      ]
     },
     "metadata": {
      "needs_background": "light"
     },
     "output_type": "display_data"
    }
   ],
   "source": [
    "plot_heatmap(listings_relevant_df_corr)"
   ]
  },
  {
   "cell_type": "markdown",
   "metadata": {},
   "source": [
    "From the above plt, we can say that price is directly propotional to number of bedrooms, bathrooms, accomdates and beds. But when you look at the negatively correlated values, we could say that higher the price, the less is the rating. Hence, people prefer cheaper AirBnB rooms"
   ]
  },
  {
   "cell_type": "markdown",
   "metadata": {},
   "source": [
    "#### 6.2 What are top 10 neibhbourhoods with highest revenue?"
   ]
  },
  {
   "cell_type": "code",
   "execution_count": 24,
   "metadata": {},
   "outputs": [
    {
     "data": {
      "text/plain": [
       "<matplotlib.axes._subplots.AxesSubplot at 0x1f744bac390>"
      ]
     },
     "execution_count": 24,
     "metadata": {},
     "output_type": "execute_result"
    },
    {
     "data": {
      "image/png": "[encoded data removed]",
      "text/plain": [
       "<Figure size 432x288 with 1 Axes>"
      ]
     },
     "metadata": {
      "needs_background": "light"
     },
     "output_type": "display_data"
    }
   ],
   "source": [
    "high_revenue_df = listings_df.groupby(['neighbourhood'])[\"price\"].agg(\"sum\").reset_index()\n",
    "high_revenue_df = high_revenue_df.sort_values([\"price\"], ascending=False)\n",
    "sns.barplot(high_revenue_df.price.head(10), high_revenue_df.neighbourhood.head(10))"
   ]
  },
  {
   "cell_type": "markdown",
   "metadata": {},
   "source": [
    "The above bar graph displays, top 10 neighbourhoods with highest revenue. 'Central Business District' and 'Capitol Hill', has the highest revenue, which says that lot of people come for business trips can pay premium and have a short stay in that particular location."
   ]
  },
  {
   "cell_type": "markdown",
   "metadata": {},
   "source": [
    "#### 6.3 What are the top 10 neighbourhoods with least revenue?"
   ]
  },
  {
   "cell_type": "code",
   "execution_count": 25,
   "metadata": {},
   "outputs": [
    {
     "data": {
      "text/plain": [
       "<matplotlib.axes._subplots.AxesSubplot at 0x1f7496b1828>"
      ]
     },
     "execution_count": 25,
     "metadata": {},
     "output_type": "execute_result"
    },
    {
     "data": {
      "image/png": "[encoded data removed]",
      "text/plain": [
       "<Figure size 432x288 with 1 Axes>"
      ]
     },
     "metadata": {
      "needs_background": "light"
     },
     "output_type": "display_data"
    }
   ],
   "source": [
    "low_revenue_df = listings_df.groupby(['neighbourhood'])[\"price\"].agg(\"sum\").reset_index()\n",
    "low_revenue_df = low_revenue_df.sort_values([\"price\"], ascending=True)\n",
    "sns.barplot(low_revenue_df.price.head(10), low_revenue_df.neighbourhood.head(10))"
   ]
  },
  {
   "cell_type": "markdown",
   "metadata": {},
   "source": [
    "The above bar graph displays, top 10 neighbourhoods with low revenue. 'Harbor Island' and 'SoDo', has the lowest revenue, which says that few people come for tourist destinations and they expect low cost."
   ]
  },
  {
   "cell_type": "markdown",
   "metadata": {},
   "source": [
    "#### 6.4 How is the response Rate by the host for each of the performers (Top, Medium and Low Performers)?"
   ]
  },
  {
   "cell_type": "code",
   "execution_count": 26,
   "metadata": {},
   "outputs": [],
   "source": [
    "top_listings = listings_df[listings_df['review_scores_rating'] >= np.percentile(listings_df['review_scores_rating'],90)]\n",
    "medium_listings = listings_df[(listings_df['review_scores_rating'] > np.percentile(listings_df['review_scores_rating'],40)) & (listings_df['review_scores_rating'] < np.percentile(listings_df['review_scores_rating'],60))]\n",
    "low_listings = listings_df[listings_df['review_scores_rating'] <= np.percentile(listings_df['review_scores_rating'],10)]\n",
    "\n",
    "hostAR_top_performer = pd.DataFrame(top_listings['host_response_rate'].reset_index(drop = True))\n",
    "hostAR_top_performer['status'] = 'Top Performer'\n",
    "\n",
    "hostAR_medium_performer = pd.DataFrame(medium_listings['host_response_rate'].reset_index(drop = True))\n",
    "hostAR_medium_performer['status'] = 'Medium Performer'\n",
    "\n",
    "hostAR_low_performer = pd.DataFrame(low_listings['host_response_rate'].reset_index(drop = True))\n",
    "hostAR_low_performer['status'] = 'Low Performer'\n",
    "\n",
    "hostAR = hostAR_low_performer.append(hostAR_top_performer).sample(frac=1)\n",
    "hostAR = hostAR.append(hostAR_medium_performer).sample(frac=1)"
   ]
  },
  {
   "cell_type": "code",
   "execution_count": 27,
   "metadata": {},
   "outputs": [
    {
     "data": {
      "text/html": [
       "<div>\n",
       "<style scoped>\n",
       "    .dataframe tbody tr th:only-of-type {\n",
       "        vertical-align: middle;\n",
       "    }\n",
       "\n",
       "    .dataframe tbody tr th {\n",
       "        vertical-align: top;\n",
       "    }\n",
       "\n",
       "    .dataframe thead th {\n",
       "        text-align: right;\n",
       "    }\n",
       "</style>\n",
       "<table border=\"1\" class=\"dataframe\">\n",
       "  <thead>\n",
       "    <tr style=\"text-align: right;\">\n",
       "      <th></th>\n",
       "      <th>status</th>\n",
       "      <th>host_response_rate</th>\n",
       "    </tr>\n",
       "  </thead>\n",
       "  <tbody>\n",
       "    <tr>\n",
       "      <th>0</th>\n",
       "      <td>Low Performer</td>\n",
       "      <td>97.914764</td>\n",
       "    </tr>\n",
       "    <tr>\n",
       "      <th>1</th>\n",
       "      <td>Medium Performer</td>\n",
       "      <td>98.058301</td>\n",
       "    </tr>\n",
       "    <tr>\n",
       "      <th>2</th>\n",
       "      <td>Top Performer</td>\n",
       "      <td>98.443609</td>\n",
       "    </tr>\n",
       "  </tbody>\n",
       "</table>\n",
       "</div>"
      ],
      "text/plain": [
       "             status  host_response_rate\n",
       "0     Low Performer           97.914764\n",
       "1  Medium Performer           98.058301\n",
       "2     Top Performer           98.443609"
      ]
     },
     "execution_count": 27,
     "metadata": {},
     "output_type": "execute_result"
    }
   ],
   "source": [
    "pd.DataFrame(hostAR.groupby(['status'])['host_response_rate'].mean().reset_index())"
   ]
  },
  {
   "cell_type": "code",
   "execution_count": 28,
   "metadata": {},
   "outputs": [
    {
     "data": {
      "text/plain": [
       "<matplotlib.axes._subplots.AxesSubplot at 0x1f7497410b8>"
      ]
     },
     "execution_count": 28,
     "metadata": {},
     "output_type": "execute_result"
    },
    {
     "data": {
      "image/png": "[encoded data removed]",
      "text/plain": [
       "<Figure size 432x288 with 1 Axes>"
      ]
     },
     "metadata": {
      "needs_background": "light"
     },
     "output_type": "display_data"
    }
   ],
   "source": [
    "sns.barplot(hostAR.status, hostAR.host_response_rate)"
   ]
  },
  {
   "cell_type": "markdown",
   "metadata": {},
   "source": [
    "As we can see from the above plot, top performers are those who have very high response rate. So for AirBnb, to increase their conversion, they need to increase their response rate."
   ]
  },
  {
   "cell_type": "markdown",
   "metadata": {},
   "source": [
    "#### 6.5 How is the sentiment of the customers who have taken AirBnB during given Period ?"
   ]
  },
  {
   "cell_type": "code",
   "execution_count": 29,
   "metadata": {},
   "outputs": [
    {
     "data": {
      "text/html": [
       "<div>\n",
       "<style scoped>\n",
       "    .dataframe tbody tr th:only-of-type {\n",
       "        vertical-align: middle;\n",
       "    }\n",
       "\n",
       "    .dataframe tbody tr th {\n",
       "        vertical-align: top;\n",
       "    }\n",
       "\n",
       "    .dataframe thead th {\n",
       "        text-align: right;\n",
       "    }\n",
       "</style>\n",
       "<table border=\"1\" class=\"dataframe\">\n",
       "  <thead>\n",
       "    <tr style=\"text-align: right;\">\n",
       "      <th></th>\n",
       "      <th>listing_id</th>\n",
       "      <th>id</th>\n",
       "      <th>date</th>\n",
       "      <th>reviewer_id</th>\n",
       "      <th>reviewer_name</th>\n",
       "      <th>comments</th>\n",
       "    </tr>\n",
       "  </thead>\n",
       "  <tbody>\n",
       "    <tr>\n",
       "      <th>0</th>\n",
       "      <td>2318</td>\n",
       "      <td>146</td>\n",
       "      <td>2008-09-15</td>\n",
       "      <td>2451</td>\n",
       "      <td>Kevin</td>\n",
       "      <td>1000 times better than staying at a hotel.</td>\n",
       "    </tr>\n",
       "    <tr>\n",
       "      <th>1</th>\n",
       "      <td>2318</td>\n",
       "      <td>126302712</td>\n",
       "      <td>2017-01-10</td>\n",
       "      <td>12332845</td>\n",
       "      <td>Jessica</td>\n",
       "      <td>Our family (two couples, a two year old and an...</td>\n",
       "    </tr>\n",
       "    <tr>\n",
       "      <th>2</th>\n",
       "      <td>2318</td>\n",
       "      <td>140977084</td>\n",
       "      <td>2017-04-01</td>\n",
       "      <td>4789466</td>\n",
       "      <td>Ivan</td>\n",
       "      <td>Top of the list locations we have stayed at! T...</td>\n",
       "    </tr>\n",
       "    <tr>\n",
       "      <th>3</th>\n",
       "      <td>2318</td>\n",
       "      <td>147262504</td>\n",
       "      <td>2017-04-25</td>\n",
       "      <td>55817131</td>\n",
       "      <td>Mike</td>\n",
       "      <td>SUCH an awesome place. Very clean, quiet and s...</td>\n",
       "    </tr>\n",
       "    <tr>\n",
       "      <th>4</th>\n",
       "      <td>2318</td>\n",
       "      <td>161806368</td>\n",
       "      <td>2017-06-18</td>\n",
       "      <td>113604590</td>\n",
       "      <td>Pete</td>\n",
       "      <td>We flew quite a distance to be at our only dau...</td>\n",
       "    </tr>\n",
       "  </tbody>\n",
       "</table>\n",
       "</div>"
      ],
      "text/plain": [
       "   listing_id         id        date  reviewer_id reviewer_name  \\\n",
       "0        2318        146  2008-09-15         2451         Kevin   \n",
       "1        2318  126302712  2017-01-10     12332845       Jessica   \n",
       "2        2318  140977084  2017-04-01      4789466          Ivan   \n",
       "3        2318  147262504  2017-04-25     55817131          Mike   \n",
       "4        2318  161806368  2017-06-18    113604590          Pete   \n",
       "\n",
       "                                            comments  \n",
       "0        1000 times better than staying at a hotel.   \n",
       "1  Our family (two couples, a two year old and an...  \n",
       "2  Top of the list locations we have stayed at! T...  \n",
       "3  SUCH an awesome place. Very clean, quiet and s...  \n",
       "4  We flew quite a distance to be at our only dau...  "
      ]
     },
     "execution_count": 29,
     "metadata": {},
     "output_type": "execute_result"
    }
   ],
   "source": [
    "reviews_df.head()"
   ]
  },
  {
   "cell_type": "code",
   "execution_count": 30,
   "metadata": {},
   "outputs": [],
   "source": [
    "afinn = Afinn()"
   ]
  },
  {
   "cell_type": "code",
   "execution_count": 31,
   "metadata": {},
   "outputs": [],
   "source": [
    "sentiment_score = []\n",
    "reviews_df = reviews_df.dropna()\n",
    "reviews_df.index = np.arange(0, len(reviews_df))\n",
    "sentiment_score = [afinn.score(i) for i in reviews_df.comments]\n",
    "reviews_df[\"sentiment_score\"] = sentiment_score"
   ]
  },
  {
   "cell_type": "code",
   "execution_count": 32,
   "metadata": {},
   "outputs": [
    {
     "data": {
      "text/plain": [
       "<matplotlib.axes._subplots.AxesSubplot at 0x1f7495a5f60>"
      ]
     },
     "execution_count": 32,
     "metadata": {},
     "output_type": "execute_result"
    },
    {
     "data": {
      "image/png": "[encoded data removed]",
      "text/plain": [
       "<Figure size 432x288 with 1 Axes>"
      ]
     },
     "metadata": {
      "needs_background": "light"
     },
     "output_type": "display_data"
    }
   ],
   "source": [
    "sns.distplot(reviews_df.sentiment_score)"
   ]
  },
  {
   "cell_type": "code",
   "execution_count": 33,
   "metadata": {},
   "outputs": [],
   "source": [
    "reviews_df['sentiment'] = np.where(reviews_df['sentiment_score'] > 5, 'positive', np.where(reviews_df['sentiment_score'] < 0, 'negative', 'neutral'))"
   ]
  },
  {
   "cell_type": "code",
   "execution_count": 34,
   "metadata": {},
   "outputs": [],
   "source": [
    "sentiment_counts = pd.DataFrame({\"sentiment\" : reviews_df.sentiment.value_counts().index, \"counts\" : reviews_df.sentiment.value_counts()})"
   ]
  },
  {
   "cell_type": "code",
   "execution_count": 35,
   "metadata": {},
   "outputs": [
    {
     "data": {
      "text/plain": [
       "<matplotlib.axes._subplots.AxesSubplot at 0x1f7497b9ba8>"
      ]
     },
     "execution_count": 35,
     "metadata": {},
     "output_type": "execute_result"
    },
    {
     "data": {
      "image/png": "[encoded data removed]",
      "text/plain": [
       "<Figure size 432x288 with 1 Axes>"
      ]
     },
     "metadata": {
      "needs_background": "light"
     },
     "output_type": "display_data"
    }
   ],
   "source": [
    "sns.barplot(sentiment_counts.sentiment.head(10), sentiment_counts.counts.head(10))"
   ]
  },
  {
   "cell_type": "markdown",
   "metadata": {},
   "source": [
    "As you can see from the above plot, AirBnb has received majority Positive Sentiment, which suggests that they are performing pretty well and able to meet customer demands"
   ]
  },
  {
   "cell_type": "markdown",
   "metadata": {},
   "source": [
    "# 7. Summary   "
   ]
  },
  {
   "cell_type": "markdown",
   "metadata": {},
   "source": [
    " As you can see from the above analysis, AirBnb has been doing pretty well in Seattle. AirBnb should continue with their goodwork and keep an eye on the competition"
   ]
  },
  {
   "cell_type": "code",
   "execution_count": null,
   "metadata": {},
   "outputs": [],
   "source": []
  }
 ],
 "metadata": {
  "kernelspec": {
   "display_name": "Python 3",
   "language": "python",
   "name": "python3"
  },
  "language_info": {
   "codemirror_mode": {
    "name": "ipython",
    "version": 3
   },
   "file_extension": ".py",
   "mimetype": "text/x-python",
   "name": "python",
   "nbconvert_exporter": "python",
   "pygments_lexer": "ipython3",
   "version": "3.7.3"
  }
 },
 "nbformat": 4,
 "nbformat_minor": 2
}
